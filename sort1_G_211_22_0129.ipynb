{
  "nbformat": 4,
  "nbformat_minor": 0,
  "metadata": {
    "colab": {
      "private_outputs": true,
      "provenance": []
    },
    "kernelspec": {
      "name": "python3",
      "display_name": "Python 3"
    },
    "language_info": {
      "name": "python"
    }
  },
  "cells": [
    {
      "cell_type": "code",
      "execution_count": null,
      "metadata": {
        "id": "oO54PphlNW4L"
      },
      "outputs": [],
      "source": [
        "def bubbleSort(arr):\n",
        "  n=len(arr)\n",
        "  #untuk menjalankan seluruh proses\n",
        "  swapped = False\n",
        "  #untuk menandai apakah ada pertukaran nilai pada iterasi\n",
        "  for i in range(n-1):\n",
        "    #untuk memproses setiap elemen array kecuali elemen terakhir\n",
        "    for j in range(0, n-i-1):\n",
        "      #membandingkan dan menukar dua elemen\n",
        "      if arr[j] > arr[j + 1]:\n",
        "        #jika elemen ke-j lebih besar, maka terjadi pertukaran\n",
        "        swapped = True\n",
        "        #untuk menandai adanya pertukaran nilai pada iterasi\n",
        "        arr[j], arr[j + 1] = arr[j + 1], arr[j]\n",
        "        #pertukaran antara elemen j dan j+1\n",
        "\n",
        "    if not swapped:\n",
        "      return\n",
        "      #apabila pertukaran nilai kedua 'swapped' tetap 'false', maka tidak ada pertukaran nilai dan fungsi keluar dengan pernyataan return\n",
        "\n",
        "arr = [64, 34, 25, 12, 22, 11, 90]\n",
        "#array yang akan diurutkan\n",
        "\n",
        "bubbleSort(arr)\n",
        "#memanggil fungsi bubblesort untuk mengurutkan array\n",
        "\n",
        "print(\"Sorted array is:\")\n",
        "for i in range(len(arr)):\n",
        "  print(\"% d\" % arr[i], end=\" \")\n",
        "#mencetak hasil dari array yang sudah diurutkan"
      ]
    },
    {
      "cell_type": "code",
      "source": [
        "#python program for implementation of\n",
        "#selection sort\n",
        "import sys\n",
        "A = [64, 25, 12, 22, 11]\n",
        "#inisialisasi array 'A', atau data yang akan diurutkan\n",
        "\n",
        "for i in range(len(A)):\n",
        "  #loop pertama untuk iterasi di setiap elemen array 'A'\n",
        "  min_idx = i\n",
        "  #menyimpan indeks elemen terkecil yang ditemukan\n",
        "  for j in range(i+1, len(A)):\n",
        "    #loop kedua untuk mencari elemen terkecil\n",
        "    if A[min_idx] > A[j]:\n",
        "      #apabila elemen 'min_idx' lebih besar dari elemen 'j', maka update nilai 'min_idx' menjadi 'j'\n",
        "      min_idx = j\n",
        "\n",
        "    A[i], A[min_idx] = A[min_idx], A[i]\n",
        "    #pertukarkan elemen terkecil dengan elemen pertama yang belum diurutkan\n",
        "print (\"Sorted array\")\n",
        "#mencetak 'sorted array'\n",
        "for i in range(len(A)):\n",
        "  print(\"%d\" %A[i],end=\" \")\n",
        "#mencetak array yang sudah diurutkan"
      ],
      "metadata": {
        "id": "QXb15snSNdoO"
      },
      "execution_count": null,
      "outputs": []
    },
    {
      "cell_type": "code",
      "source": [
        "#python program for implementation of\n",
        "#insertion sort\n",
        "#function to do insertion sort\n",
        "def insertionSort(arr):\n",
        "  #untuk menerima parameter 'arr' atau array yang akan diuurutkan menggunakan insertion sort\n",
        "  for i in range(1, len(arr)):\n",
        "    #loop pertama dimulai dari indeks kedua (indeks 1) hingga akhir array\n",
        "    key = arr[i]\n",
        "    j = i-1\n",
        "    #menyimpan nilai kedalam variabel 'key' dan menentukan indeks 'j' untuk membandingkan dengan elemen sebelumnya\n",
        "  while j >= 0 and key < arr[j] :\n",
        "    #loop kedua akan terus berjalan selama indeks 'j' masih didalam batas array dan nilai 'key' lebih kecil dari elemen yang ditemui pada indeks 'j'\n",
        "    arr[j + 1] = arr[j]\n",
        "    j -= 1\n",
        "    arr[j + 1] = key\n",
        "    #apabila kondisi loop terpenuhi, dilakukan pergeseran nilai ke kanan untuk membuat tempat bagi nilai 'key', dan kemudian disisipkan di posisi yang tepat\n",
        "\n",
        "arr = [12, 11, 13, 5, 6]\n",
        "insertionSort(arr)\n",
        "#inisialisasi array atau 'arr' yang akan diurutkan, dan memanggil fungsi 'insertionSort' untuk mengurutkan\n",
        "for i in range(len(arr)):\n",
        "  print (\"%d\" % arr[i])\n",
        "  #mencetak array yang sudah diurutkan"
      ],
      "metadata": {
        "id": "xeOcz5hXNjRN"
      },
      "execution_count": null,
      "outputs": []
    }
  ]
}